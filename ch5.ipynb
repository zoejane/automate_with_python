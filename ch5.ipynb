{
 "cells": [
  {
   "cell_type": "markdown",
   "metadata": {},
   "source": [
    "# ch5 - 字典和结构化数据"
   ]
  },
  {
   "cell_type": "code",
   "execution_count": 4,
   "metadata": {},
   "outputs": [
    {
     "name": "stdout",
     "output_type": "stream",
     "text": [
      "fat\n",
      "My cat has gray fur.\n"
     ]
    }
   ],
   "source": [
    "myCat = {'size': 'fat', 'color': 'gray', 'dispositon': 'loud'}\n",
    "print(myCat['size'])\n",
    "print('My cat has ' + myCat['color'] + ' fur.')"
   ]
  },
  {
   "cell_type": "code",
   "execution_count": 5,
   "metadata": {},
   "outputs": [
    {
     "name": "stdout",
     "output_type": "stream",
     "text": [
      "The Answer\n"
     ]
    }
   ],
   "source": [
    "spam = {123456: 'Luggage Combination', 42: 'The Answer'}\n",
    "print(spam[42])"
   ]
  },
  {
   "cell_type": "code",
   "execution_count": 6,
   "metadata": {},
   "outputs": [
    {
     "data": {
      "text/plain": [
       "False"
      ]
     },
     "execution_count": 6,
     "metadata": {},
     "output_type": "execute_result"
    }
   ],
   "source": [
    "spam = ['cats', 'dogs', 'moose']\n",
    "bacon = ['dogs', 'moose', 'cats']\n",
    "spam == bacon"
   ]
  },
  {
   "cell_type": "code",
   "execution_count": 7,
   "metadata": {},
   "outputs": [
    {
     "data": {
      "text/plain": [
       "True"
      ]
     },
     "execution_count": 7,
     "metadata": {},
     "output_type": "execute_result"
    }
   ],
   "source": [
    "eggs = {'name': 'Zophie', 'species': 'cat', 'age': '8'}\n",
    "ham = {'species': 'cat', 'age': '8', 'name': 'Zophie'}\n",
    "eggs == ham"
   ]
  },
  {
   "cell_type": "code",
   "execution_count": 1,
   "metadata": {},
   "outputs": [
    {
     "name": "stdout",
     "output_type": "stream",
     "text": [
      "Enter a name: (blank to quit)\n"
     ]
    },
    {
     "ename": "KeyboardInterrupt",
     "evalue": "",
     "output_type": "error",
     "traceback": [
      "\u001b[0;31m---------------------------------------------------------------------------\u001b[0m",
      "\u001b[0;31mKeyboardInterrupt\u001b[0m                         Traceback (most recent call last)",
      "\u001b[0;32m/Library/Frameworks/Python.framework/Versions/3.6/lib/python3.6/site-packages/ipykernel/kernelbase.py\u001b[0m in \u001b[0;36m_input_request\u001b[0;34m(self, prompt, ident, parent, password)\u001b[0m\n\u001b[1;32m    728\u001b[0m             \u001b[0;32mtry\u001b[0m\u001b[0;34m:\u001b[0m\u001b[0;34m\u001b[0m\u001b[0m\n\u001b[0;32m--> 729\u001b[0;31m                 \u001b[0mident\u001b[0m\u001b[0;34m,\u001b[0m \u001b[0mreply\u001b[0m \u001b[0;34m=\u001b[0m \u001b[0mself\u001b[0m\u001b[0;34m.\u001b[0m\u001b[0msession\u001b[0m\u001b[0;34m.\u001b[0m\u001b[0mrecv\u001b[0m\u001b[0;34m(\u001b[0m\u001b[0mself\u001b[0m\u001b[0;34m.\u001b[0m\u001b[0mstdin_socket\u001b[0m\u001b[0;34m,\u001b[0m \u001b[0;36m0\u001b[0m\u001b[0;34m)\u001b[0m\u001b[0;34m\u001b[0m\u001b[0m\n\u001b[0m\u001b[1;32m    730\u001b[0m             \u001b[0;32mexcept\u001b[0m \u001b[0mException\u001b[0m\u001b[0;34m:\u001b[0m\u001b[0;34m\u001b[0m\u001b[0m\n",
      "\u001b[0;32m/Library/Frameworks/Python.framework/Versions/3.6/lib/python3.6/site-packages/jupyter_client/session.py\u001b[0m in \u001b[0;36mrecv\u001b[0;34m(self, socket, mode, content, copy)\u001b[0m\n\u001b[1;32m    802\u001b[0m         \u001b[0;32mtry\u001b[0m\u001b[0;34m:\u001b[0m\u001b[0;34m\u001b[0m\u001b[0m\n\u001b[0;32m--> 803\u001b[0;31m             \u001b[0mmsg_list\u001b[0m \u001b[0;34m=\u001b[0m \u001b[0msocket\u001b[0m\u001b[0;34m.\u001b[0m\u001b[0mrecv_multipart\u001b[0m\u001b[0;34m(\u001b[0m\u001b[0mmode\u001b[0m\u001b[0;34m,\u001b[0m \u001b[0mcopy\u001b[0m\u001b[0;34m=\u001b[0m\u001b[0mcopy\u001b[0m\u001b[0;34m)\u001b[0m\u001b[0;34m\u001b[0m\u001b[0m\n\u001b[0m\u001b[1;32m    804\u001b[0m         \u001b[0;32mexcept\u001b[0m \u001b[0mzmq\u001b[0m\u001b[0;34m.\u001b[0m\u001b[0mZMQError\u001b[0m \u001b[0;32mas\u001b[0m \u001b[0me\u001b[0m\u001b[0;34m:\u001b[0m\u001b[0;34m\u001b[0m\u001b[0m\n",
      "\u001b[0;32m/Library/Frameworks/Python.framework/Versions/3.6/lib/python3.6/site-packages/zmq/sugar/socket.py\u001b[0m in \u001b[0;36mrecv_multipart\u001b[0;34m(self, flags, copy, track)\u001b[0m\n\u001b[1;32m    465\u001b[0m         \"\"\"\n\u001b[0;32m--> 466\u001b[0;31m         \u001b[0mparts\u001b[0m \u001b[0;34m=\u001b[0m \u001b[0;34m[\u001b[0m\u001b[0mself\u001b[0m\u001b[0;34m.\u001b[0m\u001b[0mrecv\u001b[0m\u001b[0;34m(\u001b[0m\u001b[0mflags\u001b[0m\u001b[0;34m,\u001b[0m \u001b[0mcopy\u001b[0m\u001b[0;34m=\u001b[0m\u001b[0mcopy\u001b[0m\u001b[0;34m,\u001b[0m \u001b[0mtrack\u001b[0m\u001b[0;34m=\u001b[0m\u001b[0mtrack\u001b[0m\u001b[0;34m)\u001b[0m\u001b[0;34m]\u001b[0m\u001b[0;34m\u001b[0m\u001b[0m\n\u001b[0m\u001b[1;32m    467\u001b[0m         \u001b[0;31m# have first part already, only loop while more to receive\u001b[0m\u001b[0;34m\u001b[0m\u001b[0;34m\u001b[0m\u001b[0m\n",
      "\u001b[0;32mzmq/backend/cython/socket.pyx\u001b[0m in \u001b[0;36mzmq.backend.cython.socket.Socket.recv\u001b[0;34m()\u001b[0m\n",
      "\u001b[0;32mzmq/backend/cython/socket.pyx\u001b[0m in \u001b[0;36mzmq.backend.cython.socket.Socket.recv\u001b[0;34m()\u001b[0m\n",
      "\u001b[0;32mzmq/backend/cython/socket.pyx\u001b[0m in \u001b[0;36mzmq.backend.cython.socket._recv_copy\u001b[0;34m()\u001b[0m\n",
      "\u001b[0;32m/Library/Frameworks/Python.framework/Versions/3.6/lib/python3.6/site-packages/zmq/backend/cython/checkrc.pxd\u001b[0m in \u001b[0;36mzmq.backend.cython.checkrc._check_rc\u001b[0;34m()\u001b[0m\n",
      "\u001b[0;31mKeyboardInterrupt\u001b[0m: ",
      "\nDuring handling of the above exception, another exception occurred:\n",
      "\u001b[0;31mKeyboardInterrupt\u001b[0m                         Traceback (most recent call last)",
      "\u001b[0;32m<ipython-input-1-0661fbd14323>\u001b[0m in \u001b[0;36m<module>\u001b[0;34m()\u001b[0m\n\u001b[1;32m      5\u001b[0m \u001b[0;32mwhile\u001b[0m \u001b[0;32mTrue\u001b[0m\u001b[0;34m:\u001b[0m\u001b[0;34m\u001b[0m\u001b[0m\n\u001b[1;32m      6\u001b[0m     \u001b[0mprint\u001b[0m\u001b[0;34m(\u001b[0m\u001b[0;34m'Enter a name: (blank to quit)'\u001b[0m\u001b[0;34m)\u001b[0m\u001b[0;34m\u001b[0m\u001b[0m\n\u001b[0;32m----> 7\u001b[0;31m     \u001b[0mname\u001b[0m \u001b[0;34m=\u001b[0m \u001b[0minput\u001b[0m\u001b[0;34m(\u001b[0m\u001b[0;34m)\u001b[0m\u001b[0;34m\u001b[0m\u001b[0m\n\u001b[0m\u001b[1;32m      8\u001b[0m     \u001b[0;32mif\u001b[0m \u001b[0mname\u001b[0m \u001b[0;34m==\u001b[0m \u001b[0;34m''\u001b[0m\u001b[0;34m:\u001b[0m\u001b[0;34m\u001b[0m\u001b[0m\n\u001b[1;32m      9\u001b[0m         \u001b[0;32mbreak\u001b[0m\u001b[0;34m\u001b[0m\u001b[0m\n",
      "\u001b[0;32m/Library/Frameworks/Python.framework/Versions/3.6/lib/python3.6/site-packages/ipykernel/kernelbase.py\u001b[0m in \u001b[0;36mraw_input\u001b[0;34m(self, prompt)\u001b[0m\n\u001b[1;32m    702\u001b[0m             \u001b[0mself\u001b[0m\u001b[0;34m.\u001b[0m\u001b[0m_parent_ident\u001b[0m\u001b[0;34m,\u001b[0m\u001b[0;34m\u001b[0m\u001b[0m\n\u001b[1;32m    703\u001b[0m             \u001b[0mself\u001b[0m\u001b[0;34m.\u001b[0m\u001b[0m_parent_header\u001b[0m\u001b[0;34m,\u001b[0m\u001b[0;34m\u001b[0m\u001b[0m\n\u001b[0;32m--> 704\u001b[0;31m             \u001b[0mpassword\u001b[0m\u001b[0;34m=\u001b[0m\u001b[0;32mFalse\u001b[0m\u001b[0;34m,\u001b[0m\u001b[0;34m\u001b[0m\u001b[0m\n\u001b[0m\u001b[1;32m    705\u001b[0m         )\n\u001b[1;32m    706\u001b[0m \u001b[0;34m\u001b[0m\u001b[0m\n",
      "\u001b[0;32m/Library/Frameworks/Python.framework/Versions/3.6/lib/python3.6/site-packages/ipykernel/kernelbase.py\u001b[0m in \u001b[0;36m_input_request\u001b[0;34m(self, prompt, ident, parent, password)\u001b[0m\n\u001b[1;32m    732\u001b[0m             \u001b[0;32mexcept\u001b[0m \u001b[0mKeyboardInterrupt\u001b[0m\u001b[0;34m:\u001b[0m\u001b[0;34m\u001b[0m\u001b[0m\n\u001b[1;32m    733\u001b[0m                 \u001b[0;31m# re-raise KeyboardInterrupt, to truncate traceback\u001b[0m\u001b[0;34m\u001b[0m\u001b[0;34m\u001b[0m\u001b[0m\n\u001b[0;32m--> 734\u001b[0;31m                 \u001b[0;32mraise\u001b[0m \u001b[0mKeyboardInterrupt\u001b[0m\u001b[0;34m\u001b[0m\u001b[0m\n\u001b[0m\u001b[1;32m    735\u001b[0m             \u001b[0;32melse\u001b[0m\u001b[0;34m:\u001b[0m\u001b[0;34m\u001b[0m\u001b[0m\n\u001b[1;32m    736\u001b[0m                 \u001b[0;32mbreak\u001b[0m\u001b[0;34m\u001b[0m\u001b[0m\n",
      "\u001b[0;31mKeyboardInterrupt\u001b[0m: "
     ]
    }
   ],
   "source": [
    "# birthday.py\n",
    "\n",
    "birthdays = {'Alice': 'Apr 1', 'Bob': 'Dec 12', 'Carol': 'Mar 4'}\n",
    "\n",
    "while True:\n",
    "    print('Enter a name: (blank to quit)')\n",
    "    name = input()\n",
    "    if name == '':\n",
    "        break\n",
    "        \n",
    "    if name in birthdays:\n",
    "        print(birthdays[name] + ' is the birthday of ' + name)\n",
    "    else:\n",
    "        print('I do not have birthday information for ' + name)\n",
    "        print('What is their birthday?')\n",
    "        bday = input()\n",
    "        birthdays[name] = bday\n",
    "        print('Birthday database updated.')"
   ]
  },
  {
   "cell_type": "code",
   "execution_count": 7,
   "metadata": {},
   "outputs": [
    {
     "name": "stdout",
     "output_type": "stream",
     "text": [
      "red\n",
      "42\n",
      "color\n",
      "age\n",
      "('color', 'red')\n",
      "('age', 42)\n"
     ]
    }
   ],
   "source": [
    "spam = {'color': 'red', 'age': 42}\n",
    "\n",
    "for v in spam.values():\n",
    "    print(v)\n",
    "\n",
    "for k in spam.keys():\n",
    "    print(k)\n",
    "\n",
    "for i in spam.items():\n",
    "    print(i)"
   ]
  },
  {
   "cell_type": "code",
   "execution_count": 8,
   "metadata": {},
   "outputs": [
    {
     "name": "stdout",
     "output_type": "stream",
     "text": [
      "dict_keys(['color', 'age'])\n",
      "['color', 'age']\n"
     ]
    }
   ],
   "source": [
    "spam = {'color': 'red', 'age': 42}\n",
    "print(spam.keys())\n",
    "print(list(spam.keys()))"
   ]
  },
  {
   "cell_type": "code",
   "execution_count": 10,
   "metadata": {},
   "outputs": [
    {
     "name": "stdout",
     "output_type": "stream",
     "text": [
      "Key: color Value: red\n",
      "Key: age Value: 42\n"
     ]
    }
   ],
   "source": [
    "spam = {'color': 'red', 'age': 42}\n",
    "for k, v in spam.items():\n",
    "    print('Key: ' + k + ' Value: ' + str(v))"
   ]
  },
  {
   "cell_type": "code",
   "execution_count": 11,
   "metadata": {},
   "outputs": [
    {
     "name": "stdout",
     "output_type": "stream",
     "text": [
      "True\n",
      "True\n",
      "False\n",
      "True\n",
      "True\n"
     ]
    }
   ],
   "source": [
    "spam = {'name': 'Zophie', 'age': 7}\n",
    "print('name' in spam.keys())\n",
    "print('Zophie' in spam.values())\n",
    "print('color' in spam.keys())\n",
    "print('color' not in spam.keys())\n",
    "print('color' not in spam)"
   ]
  },
  {
   "cell_type": "code",
   "execution_count": 16,
   "metadata": {},
   "outputs": [
    {
     "name": "stdout",
     "output_type": "stream",
     "text": [
      "I am bringing 2 cups.\n",
      "I am bringing 0 eggs\n"
     ]
    }
   ],
   "source": [
    "picnicItems = {'apple': 5, 'cups': 2}\n",
    "print('I am bringing ' + str(picnicItems.get('cups', 0)) + ' cups.')\n",
    "print('I am bringing ' + str(picnicItems.get('eggs', 0)) + ' eggs')"
   ]
  },
  {
   "cell_type": "code",
   "execution_count": 22,
   "metadata": {},
   "outputs": [
    {
     "name": "stdout",
     "output_type": "stream",
     "text": [
      "black\n",
      "{'name': 'Pooka', 'age': 5, 'color': 'black'}\n",
      "black\n",
      "{'name': 'Pooka', 'age': 5, 'color': 'black'}\n"
     ]
    }
   ],
   "source": [
    "spam = {'name': 'Pooka', 'age': 5}\n",
    "print(spam.setdefault('color', 'black'))\n",
    "print(spam)\n",
    "print(spam.setdefault('color', 'white'))\n",
    "print(spam)"
   ]
  },
  {
   "cell_type": "code",
   "execution_count": 25,
   "metadata": {},
   "outputs": [
    {
     "name": "stdout",
     "output_type": "stream",
     "text": [
      "{'I': 1, 't': 6, ' ': 13, 'w': 2, 'a': 4, 's': 3, 'b': 1, 'r': 5, 'i': 6, 'g': 2, 'h': 3, 'c': 3, 'o': 2, 'l': 3, 'd': 3, 'y': 1, 'n': 4, 'A': 1, 'p': 1, ',': 1, 'e': 5, 'k': 2, '.': 1}\n"
     ]
    }
   ],
   "source": [
    "# characterCount.py\n",
    "\n",
    "message = 'It was a bright cold day in April, and the clocks were striking thirteen.'\n",
    "count = {}\n",
    "\n",
    "for character in message:\n",
    "    count.setdefault(character, 0)\n",
    "    count[character] = count[character] + 1\n",
    "\n",
    "print(count)"
   ]
  },
  {
   "cell_type": "code",
   "execution_count": 32,
   "metadata": {},
   "outputs": [
    {
     "name": "stdout",
     "output_type": "stream",
     "text": [
      "{' ': 13,\n",
      " ',': 1,\n",
      " '.': 1,\n",
      " 'A': 1,\n",
      " 'I': 1,\n",
      " 'a': 4,\n",
      " 'b': 1,\n",
      " 'c': 3,\n",
      " 'd': 3,\n",
      " 'e': 5,\n",
      " 'g': 2,\n",
      " 'h': 3,\n",
      " 'i': 6,\n",
      " 'k': 2,\n",
      " 'l': 3,\n",
      " 'n': 4,\n",
      " 'o': 2,\n",
      " 'p': 1,\n",
      " 'r': 5,\n",
      " 's': 3,\n",
      " 't': 6,\n",
      " 'w': 2,\n",
      " 'y': 1}\n",
      "{' ': 13,\n",
      " ',': 1,\n",
      " '.': 1,\n",
      " 'A': 1,\n",
      " 'I': 1,\n",
      " 'a': 4,\n",
      " 'b': 1,\n",
      " 'c': 3,\n",
      " 'd': 3,\n",
      " 'e': 5,\n",
      " 'g': 2,\n",
      " 'h': 3,\n",
      " 'i': 6,\n",
      " 'k': 2,\n",
      " 'l': 3,\n",
      " 'n': 4,\n",
      " 'o': 2,\n",
      " 'p': 1,\n",
      " 'r': 5,\n",
      " 's': 3,\n",
      " 't': 6,\n",
      " 'w': 2,\n",
      " 'y': 1}\n"
     ]
    }
   ],
   "source": [
    "# characterCount.py\n",
    "\n",
    "import pprint\n",
    "\n",
    "message = 'It was a bright cold day in April, and the clocks were striking thirteen.'\n",
    "count = {}\n",
    "\n",
    "for character in message:\n",
    "    count.setdefault(character, 0)\n",
    "    count[character] = count[character] + 1\n",
    "\n",
    "pprint.pprint(count)\n",
    "print(pprint.pformat(count))"
   ]
  },
  {
   "cell_type": "code",
   "execution_count": 39,
   "metadata": {},
   "outputs": [
    {
     "name": "stdout",
     "output_type": "stream",
     "text": [
      " | | \n",
      "-+-+-\n",
      " | | \n",
      "-+-+-\n",
      " | | \n",
      "Turn for X. Move on which space?\n",
      "top-L\n",
      "X| | \n",
      "-+-+-\n",
      " | | \n",
      "-+-+-\n",
      " | | \n",
      "Turn for O. Move on which space?\n",
      "mid-M\n",
      "X| | \n",
      "-+-+-\n",
      " |O| \n",
      "-+-+-\n",
      " | | \n",
      "Turn for X. Move on which space?\n",
      "mid-L\n",
      "X| | \n",
      "-+-+-\n",
      "X|O| \n",
      "-+-+-\n",
      " | | \n",
      "Turn for O. Move on which space?\n",
      "low-L\n",
      "X| | \n",
      "-+-+-\n",
      "X|O| \n",
      "-+-+-\n",
      "O| | \n",
      "Turn for X. Move on which space?\n",
      "top-R\n",
      "X| |X\n",
      "-+-+-\n",
      "X|O| \n",
      "-+-+-\n",
      "O| | \n",
      "Turn for O. Move on which space?\n",
      "top-M\n",
      "X|O|X\n",
      "-+-+-\n",
      "X|O| \n",
      "-+-+-\n",
      "O| | \n",
      "Turn for X. Move on which space?\n",
      "low-M\n",
      "X|O|X\n",
      "-+-+-\n",
      "X|O| \n",
      "-+-+-\n",
      "O|X| \n",
      "Turn for O. Move on which space?\n",
      "low-R\n",
      "X|O|X\n",
      "-+-+-\n",
      "X|O| \n",
      "-+-+-\n",
      "O|X|O\n",
      "Turn for X. Move on which space?\n",
      "mid-R\n",
      "X|O|X\n",
      "-+-+-\n",
      "X|O|X\n",
      "-+-+-\n",
      "O|X|O\n"
     ]
    }
   ],
   "source": [
    "# ticTacToe.py\n",
    "\n",
    "theBoard = {'top-L': ' ', 'top-M': ' ', 'top-R': ' ',\n",
    "            'mid-L': ' ', 'mid-M': ' ', 'mid-R': ' ',\n",
    "            'low-L': ' ', 'low-M': ' ', 'low-R': ' '}\n",
    "\n",
    "def printBoard(board):\n",
    "    print(board['top-L'] + '|' + board['top-M'] + '|' + board['top-R'])\n",
    "    print('-+-+-')\n",
    "    print(board['mid-L'] + '|' + board['mid-M'] + '|' + board['mid-R'])\n",
    "    print('-+-+-')\n",
    "    print(board['low-L'] + '|' + board['low-M'] + '|' + board['low-R'])\n",
    "    \n",
    "turn = 'X'\n",
    "for i in range(9):\n",
    "    printBoard(theBoard)\n",
    "    print('Turn for ' + turn + '. Move on which space?')\n",
    "    move = input()\n",
    "    theBoard[move] = turn\n",
    "    if turn == 'X':\n",
    "        turn = 'O'\n",
    "    else:\n",
    "        turn = 'X'\n",
    "printBoard(theBoard)"
   ]
  },
  {
   "cell_type": "code",
   "execution_count": 55,
   "metadata": {},
   "outputs": [
    {
     "name": "stdout",
     "output_type": "stream",
     "text": [
      "Number of things being brought:\n",
      " - Apples 7\n",
      " - Cups 3\n",
      " - Cakes 0\n",
      " - Ham Sandwiches 3\n",
      " - Apple Pies 1\n"
     ]
    }
   ],
   "source": [
    "allGuests = {'Alice': {'apples': 5, 'pretzels': 12},\n",
    "             'Bob': {'ham sandwiches': 3, 'apples': 2},\n",
    "             'Carol': {'cups': 3, 'apple pies': 1}}\n",
    "\n",
    "def totalBrought(guests, item):\n",
    "    # print('guest', guests)\n",
    "    numBrought = 0\n",
    "    for k, v in guests.items():\n",
    "        numBrought = numBrought + v.get(item, 0)\n",
    "    return numBrought\n",
    "\n",
    "print('Number of things being brought:')\n",
    "print(' - Apples ' + str(totalBrought(allGuests, 'apples')))\n",
    "print(' - Cups ' + str(totalBrought(allGuests, 'cups')))\n",
    "print(' - Cakes ' + str(totalBrought(allGuests, 'cakes')))\n",
    "print(' - Ham Sandwiches ' + str(totalBrought(allGuests, 'ham sandwiches')))\n",
    "print(' - Apple Pies ' + str(totalBrought(allGuests, 'apple pies')))"
   ]
  },
  {
   "cell_type": "code",
   "execution_count": 11,
   "metadata": {},
   "outputs": [
    {
     "name": "stdout",
     "output_type": "stream",
     "text": [
      "Inventory:\n",
      "1 rope\n",
      "6 torch\n",
      "42 gold coin\n",
      "1 dagger\n",
      "12 arrow\n",
      "Total number of items: 62\n"
     ]
    }
   ],
   "source": [
    "# inventory.py\n",
    "\n",
    "stuff = {'rope': 1,\n",
    "             'torch': 6,\n",
    "             'gold coin': 42,\n",
    "             'dagger': 1,\n",
    "             'arrow': 12}\n",
    "\n",
    "def displayInventory(inventory):\n",
    "    \n",
    "    print('Inventory:')\n",
    "    item_total = 0\n",
    "    for k, v in inventory.items():\n",
    "        print(str(v) + ' ' + k)\n",
    "        item_total += v    \n",
    "    print('Total number of items: ' + str(item_total))\n",
    "        \n",
    "displayInventory(stuff)"
   ]
  },
  {
   "cell_type": "code",
   "execution_count": 22,
   "metadata": {},
   "outputs": [
    {
     "name": "stdout",
     "output_type": "stream",
     "text": [
      "Inventory:\n",
      "45 gold coin\n",
      "1 rope\n",
      "1 dagger\n",
      "1 ruby\n",
      "\n",
      "Total number of items: 48\n"
     ]
    }
   ],
   "source": [
    "# inventory.py\n",
    "\n",
    "stuff = {'rope': 1,\n",
    "             'torch': 6,\n",
    "             'gold coin': 42,\n",
    "             'dagger': 1,\n",
    "             'arrow': 12}\n",
    "\n",
    "def displayInventory(inventory):\n",
    "    \n",
    "    print('Inventory:')\n",
    "    item_total = 0\n",
    "    for k, v in inventory.items():\n",
    "        print(str(v) + ' ' + k)\n",
    "        item_total += v    \n",
    "    print('\\nTotal number of items: ' + str(item_total))\n",
    "\n",
    "def addToInventory(inventory, addedItems):\n",
    "    for item in addedItems:\n",
    "        '''\n",
    "        if item in inventory.keys():\n",
    "            inventory[item] += 1\n",
    "        else:\n",
    "            inventory[item] = 1\n",
    "        '''\n",
    "        inventory.setdefault(item, 0)\n",
    "        inventory[item] += 1\n",
    "    return inventory\n",
    "\n",
    "# displayInventory(stuff)\n",
    "\n",
    "inv = {'gold coin': 42, 'rope': 1}\n",
    "dragonLoot = ['gold coin', 'dagger', 'gold coin', 'gold coin', 'ruby']\n",
    "inv = addToInventory(inv, dragonLoot)\n",
    "displayInventory(inv)"
   ]
  },
  {
   "cell_type": "code",
   "execution_count": null,
   "metadata": {},
   "outputs": [],
   "source": []
  }
 ],
 "metadata": {
  "kernelspec": {
   "display_name": "Python 3",
   "language": "python",
   "name": "python3"
  },
  "language_info": {
   "codemirror_mode": {
    "name": "ipython",
    "version": 3
   },
   "file_extension": ".py",
   "mimetype": "text/x-python",
   "name": "python",
   "nbconvert_exporter": "python",
   "pygments_lexer": "ipython3",
   "version": "3.6.0"
  }
 },
 "nbformat": 4,
 "nbformat_minor": 2
}
