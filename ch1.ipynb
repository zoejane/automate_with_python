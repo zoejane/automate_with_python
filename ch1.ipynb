{
 "cells": [
  {
   "cell_type": "markdown",
   "metadata": {},
   "source": [
    "# ch1 Python 基础"
   ]
  },
  {
   "cell_type": "code",
   "execution_count": 4,
   "metadata": {},
   "outputs": [
    {
     "name": "stdout",
     "output_type": "stream",
     "text": [
      "Hello world!\n",
      "What is your name?\n",
      "Zoe\n",
      "It is good to meet you, Zoe\n",
      "The length of your name is:\n",
      "3\n",
      "What is your age?\n",
      "31\n",
      "You will be 32 in a year.\n"
     ]
    }
   ],
   "source": [
    "# This program says hello and asks for my name.\n",
    "\n",
    "print('Hello world!')\n",
    "print('What is your name?') # ask for their name\n",
    "myName = input()\n",
    "print('It is good to meet you, ' + myName)\n",
    "print('The length of your name is:')\n",
    "print(len(myName))\n",
    "print('What is your age?') # ask for their age\n",
    "myAge = input()\n",
    "print('You will be ' + str(int(myAge) + 1) + ' in a year.')"
   ]
  },
  {
   "cell_type": "markdown",
   "metadata": {},
   "source": [
    "## Explore\n",
    "\n",
    "\n",
    "- [The Invent with Python Blog](https://inventwithpython.com/blog/)\n",
    "    - [Navigating a world that that demands APIs, not apps | Opensource.com](https://opensource.com/education/15/9/apis-not-apps)\n",
    "        - These are areas where non-programmers can significantly boost their productivity by learning to code. This is different from everyone becoming a software engineer. When I say learn to code, I don't mean develop software professionally. Almost every adult has a driver's license, but only a minority are cab drivers or NASCAR racers.\n",
    "        - Almost every major website has an Application Program Interface (API), a formal specification for software to retrieve data and make requests similar to human-directed browsers. Facebook, Wikipedia, Amazon, Twitter, Google, and Reddit all offer APIs so that their users can automate their interactions with the site. The vast majority of users don't use these APIs—or even  know what an API is—because programming is something that they've left to the professionals. But when coding becomes universal, so will the expectation that websites become accessible to more than just browsers.\n",
    "        - The APIs-Not-Apps future is a natural extension of the open source movement. Programming is not just writing software from scratch or forking existing projects. Many users have nice-to-have ideas for features that would benefit their individual workflow, but are too niche to be considered. \n",
    "        - Learning to code isn't simply a hobby or a productivity boost, but a path to becoming a more engaged and capable adult.\n",
    "    - [Lessons Learned from Creating a Udemy Course - The Invent with Python Blog](https://inventwithpython.com/blog/2017/04/05/lessons-learned-from-creating-a-udemy-course/)\n",
    "        - Scripts, Speaking, and Recording\n",
    "            - I favor doing multiple repeat takes to practice my delivery, as opposed to writing a script. Scripts take time to write, and while you might be able to do the recording in one take you could end up sounding robotic by reading off a script. Multiple takes can be tiresome, but the final take usually sounds more natural.\n",
    "            - Think of each video as a short speech you'll give: you don't need to memorize every word, but you should have all the topics you want to hit memorized.\n",
    "            - It's better to speak slowly than quickly. Udemy, YouTube, and other video sites often have video speed-up options. A normal conversation speed is best for videos. Keep in mind that many of your students won't speak English as their first language.\n",
    "            - Do a few tongue twisters before recording to get into a presenter mindset. You don't want to be low-energy sounding. I find it helps to smile while speaking. If you aren't recording your face, open your mouth wider than usual to keep yourself from muttering. \n",
    "            - Keep a glass of water nearby, but not on the desk. Make sure it won't spill on anything if you accidentally knock it over.\n",
    "            - If I get flustered while recording, I just take a quick 10 or 20 seconds to compose myself. It's easy to find these silent pauses in the video editor and cut them.\n",
    "            - Here's the pre-recording checklist I run through:\n",
    "                - Close instant messaging programs that could have pop-ups while recording.\n",
    "                - Make sure the Yeti microphone is selected as the audio source.\n",
    "                - Have a glass of water nearby.\n",
    "                - If I'm recording my face: shave and wash my face.\n",
    "                - Do some tongue twister warm ups.\n",
    "                - Make sure the mic is unmuted.\n",
    "                - Position the mic close to your mouth.\n",
    "                - Set screen resolution to 1280 x 720.\n",
    "                - Do a quick test recording to make sure the audio sounds okay.\n",
    "                - Smile!\n",
    "        - Promotion\n",
    "            - The worst approach to take is protectively caging up your course. A paywall is biggest wall to getting paid. \n",
    "            - If you want to make money, you need to start by giving your course out for free to build up a respectable number of students and reviews. I'm always hesitant to buy courses that only have a couple hundred students and a dozen reviews. You won't get paying students until a lot of students have vetted your course.\n",
    "            - Announce your course on social media and Reddit with a free code to generate initial interest. Don't offer just a discount for this promotion: make it entirely free. A 90%-off discount still looks like spam. \n",
    "            - Be sure to note that this free code is for a limited time and make it sound personal like, \"I've finished my new Python course and made it free this week with code THANKS_REDDIT\". \n",
    "            - You'll probably get people messaging you after the period asking if they could also get a coupon. Be generous and generate a coupon for them, along with something like \"If you like the course, please do rate it.\" Don't make it sound like you're demanding a positive review in exchange for the code.\n",
    "            - Be generous with how many videos you make available for free previews. Of the 50 videos in my Automate course, I have the first 15 free to view (along with some other random videos later in the course). Also make these videos available on a YouTube channel, with links back to the Udemy course page. Better yet, have links using a discount code you made for YouTube viewers (this will also let you track how many students YouTube is bringing you.)\n",
    "            - Don't worry about people pirating your course and watching it for free. The only way your course won't be put on torrent sites is if no one likes it to begin with. The kind of piracy you do need to worry about are other people taking your videos and selling them on Udemy or other sites. These sites will have a DMCA or infringement notice form that you can fill out. It's good practice to do searches for your course every now and then.\n",
    "            - The promo video that people will see on your course page when they're deciding to buy it or not is incredibly important. Spend as much time as you can and follow Udemy's promo video guidelines religiously. You may want to consider spending money on background music or intro/extro video clips. I like using Pond5.com for buying sound clips.\n",
    "             - [The Perfect Promo: Guide](https://info.udemy.com/perfect-promo)\n",
    "- [Python Tutor - Visualize Python, Java, C, C++, JavaScript, TypeScript, and Ruby code execution](http://pythontutor.com/)\n",
    "\n",
    "## Read documentation\n",
    "\n",
    "- [2. Built-in Functions — Python 3.7.0 documentation](https://docs.python.org/3/library/functions.html)\n",
    "    - `round(number[, ndigits])`\n",
    "        - Return number rounded to ndigits precision after the decimal point. If ndigits is omitted or is None, it returns the nearest integer to its input.\n",
    "        - if two multiples are equally close, rounding is done toward the even choice (so, for example, both `round(0.5)` and `round(-0.5)` are `0`, and `round(1.5)` is `2`). \n",
    "        - Note The behavior of `round()` for floats can be surprising: for example, `round(2.675, 2)` gives `2.67` instead of the expected `2.68`. This is not a bug: it’s a result of the fact that most decimal fractions can’t be represented exactly as a float. See Floating Point Arithmetic: Issues and Limitations for more information.\n",
    "    - [15. Floating Point Arithmetic: Issues and Limitations](https://docs.python.org/3/tutorial/floatingpoint.html#tut-fp-issues)\n",
    "        - Unfortunately, most decimal fractions cannot be represented exactly as binary fractions. A consequence is that, in general, the decimal floating-point numbers you enter are only approximated by the binary floating-point numbers actually stored in the machine.\n",
    "        - Just remember, even though the printed result looks like the exact value of 1/10, the actual stored value is the nearest representable binary fraction.\n",
    "        - Note that this is in the very nature of binary floating-point: this is not a bug in Python, and it is not a bug in your code either. You’ll see the same kind of thing in all languages that support your hardware’s floating-point arithmetic (although some languages may not display the difference by default, or in all output modes).\n",
    "        - It’s important to realize that this is, in a real sense, an illusion: you’re simply rounding the display of the true machine value.\n",
    "        - That’s more than adequate for most tasks, but you do need to keep in mind that it’s not decimal arithmetic and that every float operation can suffer a new rounding error.\n",
    "        - [(15.1. Representation Error](https://docs.python.org/3/tutorial/floatingpoint.html#representation-error)\n",
    "            - Representation error refers to the fact that some (most, actually) decimal fractions cannot be represented exactly as binary (base 2) fractions. \n",
    "            - This is the chief reason why Python (or Perl, C, C++, Java, Fortran, and many others) often won’t display the exact decimal number you expect.\n",
    "            - Note that since we rounded up, this is actually a little bit larger than 1/10; if we had not rounded up, the quotient would have been a little bit smaller than 1/10. But in no case can it be exactly 1/10!\n",
    "\n",
    "\n",
    "\n",
    "\n",
    "\n",
    "\n",
    "\n",
    "\n",
    "\n",
    "\n",
    "\n",
    "\n"
   ]
  },
  {
   "cell_type": "code",
   "execution_count": null,
   "metadata": {},
   "outputs": [],
   "source": []
  }
 ],
 "metadata": {
  "kernelspec": {
   "display_name": "Python 3",
   "language": "python",
   "name": "python3"
  },
  "language_info": {
   "codemirror_mode": {
    "name": "ipython",
    "version": 3
   },
   "file_extension": ".py",
   "mimetype": "text/x-python",
   "name": "python",
   "nbconvert_exporter": "python",
   "pygments_lexer": "ipython3",
   "version": "3.6.0"
  }
 },
 "nbformat": 4,
 "nbformat_minor": 2
}
